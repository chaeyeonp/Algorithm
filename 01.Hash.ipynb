{
 "cells": [
  {
   "cell_type": "markdown",
   "metadata": {},
   "source": [
    "# Hash 함수\n",
    "\n",
    "임의 값을 고정길이로 변환\n",
    "\n",
    "Hash Function : 특정 연산을 이용하여 키 값을 받아서 value를 가진 공간의 주소로 바꾸어주는 함수를 의미한다.\n",
    "\n",
    "Hash Table: 해쉬 구조를 사용하는 데이터 구조\n",
    "\n",
    "해쉬 값: Key 갑을 해쉬 함수에 넣어서 얻은 주소값을 의미\n",
    "\n",
    "슬롯: 한 개의 데이터를 저장할 수 있는 공간 의미"
   ]
  },
  {
   "cell_type": "markdown",
   "metadata": {},
   "source": [
    "## 1번\n",
    "\n",
    "컨테이너에 동일한 값의 자료가 몇개인지를 파악하는데 사용하는 객체\n",
    "\n",
    "인풋은 문자열, 딕셔너리, 리스트 등 가능.\n",
    "\n",
    "결과값(return)은 딕셔너리 형태\n",
    "\n",
    "수많은 마라톤 선수들이 마라톤에 참여하였습니다. 단 한 명의 선수를 제외하고는 모든 선수가 마라톤을 완주하였습니다.\n",
    "\n",
    "마라톤에 참여한 선수들의 이름이 담긴 배열 participant와 완주한 선수들의 이름이 담긴 배열 completion이 주어질 때, 완주하지 못한 선수의 이름을 return 하도록 solution 함수를 작성해주세요.\n",
    "\n",
    "제한사항\n",
    "마라톤 경기에 참여한 선수의 수는 1명 이상 100,000명 이하입니다.\n",
    "completion의 길이는 participant의 길이보다 1 작습니다.\n",
    "참가자의 이름은 1개 이상 20개 이하의 알파벳 소문자로 이루어져 있습니다.\n",
    "참가자 중에는 동명이인이 있을 수 있습니다."
   ]
  },
  {
   "cell_type": "code",
   "execution_count": null,
   "metadata": {},
   "outputs": [],
   "source": [
    "#내 풀이 \n",
    "\n",
    "def solution(participant, completion):\n",
    "    participant.sort()\n",
    "    completion.sort()\n",
    "    \n",
    "    for p,c in zip(participant,completion):\n",
    "        if p != c:\n",
    "            return p\n",
    "        \n",
    "    return participant[-1]"
   ]
  },
  {
   "cell_type": "code",
   "execution_count": null,
   "metadata": {},
   "outputs": [],
   "source": [
    "#zip 연습\n",
    "\n",
    "names = ['James', 'Robert', 'Lisa', 'Mary']\n",
    "\n",
    "scores = [10,20,30,40]\n",
    "\n",
    "for k in range(len(names)):\n",
    "    print(names[k],scores[k])\n",
    "    \n",
    "for name, score in zip(names, scores):"
   ]
  },
  {
   "cell_type": "code",
   "execution_count": 2,
   "metadata": {},
   "outputs": [],
   "source": [
    "#Counter()는 dict와 같이 hash형 자료들의 값의 개수를 셀 때 사용하는데, \n",
    "# 딕셔너리처럼 {'자료 이름' : '개수'} 형식으로 만들어진다\n",
    "\n",
    "#  Counter 객체들끼리 뺄셈 가능\n",
    "\n",
    "\n",
    "#찾고자 하는 값이 없을 경우 에러가 아니라 0을 반환\n",
    "\n",
    "\n",
    "import collections\n",
    "def solution(participant,completion):\n",
    "    answer = collection.Counter(participant) - collection.Counter(completion)\n",
    "    \n",
    "    return list(answer)[0]"
   ]
  },
  {
   "cell_type": "code",
   "execution_count": 7,
   "metadata": {},
   "outputs": [
    {
     "data": {
      "text/plain": [
       "'\\nhash()는 마치 자료들의 주소 값처럼(?) \\n실행될 때마다 각 값에 대한 고유한 정수형 숫자 값을 반환한다. \\n따라서 participant의 인자들의 hash 값을 모두 더해주고, \\ncompletion의 인자들의 hash 값을 모두 빼주면 \\n1) 중복됐던 값 중 하나 혹은 \\n2) completion 목록에는 없는 participant의 hash 값이 남는다.\\n\\n'"
      ]
     },
     "execution_count": 7,
     "metadata": {},
     "output_type": "execute_result"
    }
   ],
   "source": [
    "def solution(participant, completion):\n",
    "    answer = ''\n",
    "    temp = 0\n",
    "    dic = {}\n",
    "    \n",
    "    for part in participant:\n",
    "        dic[hash(part)] = part\n",
    "        print(hash(part))\n",
    "        temp += int(hash(part))\n",
    "        \n",
    "    for com in completion:\n",
    "        temp -= hash(com)\n",
    "        \n",
    "    answer = dic[temp]\n",
    "    \n",
    "    return answer\n",
    "\n",
    "\n",
    "\"\"\"\n",
    "hash()는 마치 자료들의 주소 값처럼(?) \n",
    "실행될 때마다 각 값에 대한 고유한 정수형 숫자 값을 반환한다. \n",
    "따라서 participant의 인자들의 hash 값을 모두 더해주고, \n",
    "completion의 인자들의 hash 값을 모두 빼주면 \n",
    "1) 중복됐던 값 중 하나 혹은 \n",
    "2) completion 목록에는 없는 participant의 hash 값이 남는다.\n",
    "\n",
    "\"\"\""
   ]
  },
  {
   "cell_type": "markdown",
   "metadata": {},
   "source": [
    "## 2번\n",
    "\n",
    "전화번호부에 적힌 전화번호 중, 한 번호가 다른 번호의 접두어인 경우가 있는지 확인하려 합니다.\n",
    "전화번호가 다음과 같을 경우, 구조대 전화번호는 영석이의 전화번호의 접두사입니다.\n",
    "\n",
    "구조대 : 119\n",
    "박준영 : 97 674 223\n",
    "지영석 : 11 9552 4421\n",
    "전화번호부에 적힌 전화번호를 담은 배열 phone_book 이 solution 함수의 매개변수로 주어질 때, 어떤 번호가 다른 번호의 접두어인 경우가 있으면 false를 그렇지 않으면 true를 return 하도록 solution 함수를 작성해주세요.\n",
    "\n",
    "제한 사항\n",
    "phone_book의 길이는 1 이상 1,000,000 이하입니다.\n",
    "각 전화번호의 길이는 1 이상 20 이하입니다."
   ]
  },
  {
   "cell_type": "code",
   "execution_count": 16,
   "metadata": {},
   "outputs": [
    {
     "data": {
      "text/plain": [
       "False"
      ]
     },
     "execution_count": 16,
     "metadata": {},
     "output_type": "execute_result"
    }
   ],
   "source": [
    "#why? 문자열 A와 문자열 B 비교해야 함.\n",
    "#비교할 때 zip 쓸 수 있음\n",
    "\n",
    "def solution(phone_book):\n",
    "    \n",
    "    phone_book.sort()\n",
    "    \n",
    "    for p1,p2 in zip(phone_book, phone_book[1:]):\n",
    "        if p1[0]==p2[0]:\n",
    "            return False\n",
    "        \n",
    "        else:\n",
    "            return True\n",
    "\n",
    "    \n",
    "solution([\"119\", \"97674223\", \"1195524421\"])"
   ]
  },
  {
   "cell_type": "code",
   "execution_count": 18,
   "metadata": {},
   "outputs": [],
   "source": [
    "#startswith()은 내가 찾고자 하는 문자열A가 \n",
    "#문자열B의 맨 앞에 있는지의 여부를 알려준다! \n",
    "#기본적으로는 문자열 strB에 문자열 strA 가 맨 앞 있다면 True를 반환하고, \n",
    "#아니라면 False를 반환한다.\n",
    "\n",
    "def solution(phone_book):\n",
    "    \n",
    "    phone_book.sort()\n",
    "    \n",
    "    for p1,p2 in zip(phone_book, phone_book[1:]):\n",
    "        if p1.startswith(p2):\n",
    "            return False\n",
    "        \n",
    "    return True\n"
   ]
  },
  {
   "cell_type": "code",
   "execution_count": 19,
   "metadata": {},
   "outputs": [],
   "source": [
    "def solution(phone_book):\n",
    "    answer = True\n",
    "    hash_map = {}\n",
    "    \n",
    "    for phone_number in phone_book:\n",
    "        hash_map[phone_number] = 1 \n",
    "        \n",
    "    for phone_number in phone_book:\n",
    "        temp = \"\"\n",
    "        \n",
    "        for number in phone_number:\n",
    "            temp += number\n",
    "            \n",
    "            if temp in hash_map and temp != phone_number:\n",
    "                \n",
    "                answer = False\n",
    "                \n",
    "        return answer\n",
    "        "
   ]
  },
  {
   "cell_type": "code",
   "execution_count": 22,
   "metadata": {},
   "outputs": [],
   "source": [
    "from itertools import combinations as c\n",
    "\n",
    "def solution(phoneBook):\n",
    "    answer = True\n",
    "    \n",
    "    sortedPB = sorted(phoneBook,key= len)\n",
    "    \n",
    "    for (a,b) in c(sortedPB,2):\n",
    "        if a == b[:len(a)]:\n",
    "            answer = False\n",
    "    return answer"
   ]
  },
  {
   "cell_type": "markdown",
   "metadata": {},
   "source": [
    "## 3번 스파이 위장\n",
    "\n",
    "스파이들은 매일 다른 옷을 조합하여 입어 자신을 위장합니다.\n",
    "\n",
    "예를 들어 스파이가 가진 옷이 아래와 같고 오늘 스파이가 동그란 안경, 긴 코트, 파란색 티셔츠를 입었다면 다음날은 청바지를 추가로 입거나 동그란 안경 대신 검정 선글라스를 착용하거나 해야 합니다.\n",
    "\n",
    "스파이가 가진 의상들이 담긴 2차원 배열 clothes가 주어질 때 서로 다른 옷의 조합의 수를 return 하도록 solution 함수를 작성해주세요.\n",
    "\n",
    "제한사항\n",
    "\n",
    "clothes의 각 행은 [의상의 이름, 의상의 종류]로 이루어져 있습니다.\n",
    "스파이가 가진 의상의 수는 1개 이상 30개 이하입니다.\n",
    "같은 이름을 가진 의상은 존재하지 않습니다.\n",
    "clothes의 모든 원소는 문자열로 이루어져 있습니다.\n",
    "모든 문자열의 길이는 1 이상 20 이하인 자연수이고 알파벳 소문자 또는 '_' 로만 이루어져 있습니다.\n",
    "스파이는 하루에 최소 한 개의 의상은 입습니다."
   ]
  },
  {
   "cell_type": "code",
   "execution_count": 23,
   "metadata": {},
   "outputs": [],
   "source": [
    "from collections import Counter\n",
    "\n",
    "def solution(clothes):\n",
    "    category = Counter([cat for _, cat in clothes])\n",
    "    all_possible = 1\n",
    "    \n",
    "    for key in category:\n",
    "        all_possible *= (category[key] + 1)\n",
    "        \n",
    "    return all_possible - 1"
   ]
  },
  {
   "cell_type": "code",
   "execution_count": 24,
   "metadata": {},
   "outputs": [],
   "source": [
    "def solution(clothes):\n",
    "    from collections import Counter\n",
    "    \n",
    "    from functools import reduce\n",
    "    \n",
    "    cnt = Counter([kind for name, kind in clothes])"
   ]
  },
  {
   "cell_type": "code",
   "execution_count": 25,
   "metadata": {},
   "outputs": [
    {
     "data": {
      "text/plain": [
       "<function __main__.<lambda>(x)>"
      ]
     },
     "execution_count": 25,
     "metadata": {},
     "output_type": "execute_result"
    }
   ],
   "source": [
    "lambda x:x+10"
   ]
  },
  {
   "cell_type": "code",
   "execution_count": 27,
   "metadata": {},
   "outputs": [
    {
     "data": {
      "text/plain": [
       "11"
      ]
     },
     "execution_count": 27,
     "metadata": {},
     "output_type": "execute_result"
    }
   ],
   "source": [
    "plus_ten = lambda x:x+10\n",
    "plus_ten(1)"
   ]
  },
  {
   "cell_type": "code",
   "execution_count": 28,
   "metadata": {},
   "outputs": [
    {
     "data": {
      "text/plain": [
       "11"
      ]
     },
     "execution_count": 28,
     "metadata": {},
     "output_type": "execute_result"
    }
   ],
   "source": [
    "(lambda x:x+10) (1)"
   ]
  },
  {
   "cell_type": "code",
   "execution_count": 29,
   "metadata": {},
   "outputs": [
    {
     "data": {
      "text/plain": [
       "[1, 2, '3', 4, 5, '6', 7, 8, '9', 10]"
      ]
     },
     "execution_count": 29,
     "metadata": {},
     "output_type": "execute_result"
    }
   ],
   "source": [
    "a = [1, 2, 3, 4, 5, 6, 7, 8, 9, 10]\n",
    "\n",
    "list(map(lambda x: str(x) if x % 3 == 0 else x, a))"
   ]
  },
  {
   "cell_type": "code",
   "execution_count": 30,
   "metadata": {},
   "outputs": [],
   "source": [
    "def solution(clothes):\n",
    "    from collections import Counter\n",
    "    from functools import reduce\n",
    "    \n",
    "    cnt = Counter([kind for name, kind in clothes])\n",
    "    \n",
    "    answer = reduce(lambda x,y: x*(y+1), cnt.values(),1) -1\n",
    "    \n",
    "    return answer"
   ]
  },
  {
   "cell_type": "code",
   "execution_count": 3,
   "metadata": {},
   "outputs": [
    {
     "data": {
      "text/plain": [
       "5"
      ]
     },
     "execution_count": 3,
     "metadata": {},
     "output_type": "execute_result"
    }
   ],
   "source": [
    "import collections\n",
    "from functools import reduce\n",
    "\n",
    "def solution(c):\n",
    "    return reduce(lambda x,y:x*y,[a+1 for a in collections.Counter([x[1] for x in c]).values()])-1\n",
    "            \n",
    "\n",
    "clothes = [[\"yellow_hat\", \"headgear\"], [\"blue_sunglasses\", \"eyewear\"], [\"green_turban\", \"headgear\"]]\n",
    " \n",
    "solution(clothes)"
   ]
  },
  {
   "cell_type": "markdown",
   "metadata": {},
   "source": [
    "### array -> for/comprehension/lambda"
   ]
  },
  {
   "cell_type": "code",
   "execution_count": 33,
   "metadata": {},
   "outputs": [
    {
     "name": "stdout",
     "output_type": "stream",
     "text": [
      "['h', 'u', 'm', 'a', 'n']\n"
     ]
    }
   ],
   "source": [
    "h_letters = []\n",
    "\n",
    "for letter in 'human':\n",
    "    h_letters.append(letter)\n",
    "\n",
    "print(h_letters)"
   ]
  },
  {
   "cell_type": "code",
   "execution_count": 34,
   "metadata": {
    "scrolled": true
   },
   "outputs": [
    {
     "name": "stdout",
     "output_type": "stream",
     "text": [
      "['h', 'u', 'm', 'a', 'n']\n"
     ]
    }
   ],
   "source": [
    "h_letters = [letter for letter in 'human']\n",
    "print(h_letters)"
   ]
  },
  {
   "cell_type": "code",
   "execution_count": 37,
   "metadata": {},
   "outputs": [
    {
     "name": "stdout",
     "output_type": "stream",
     "text": [
      "['h', 'u', 'm', 'a', 'n']\n"
     ]
    }
   ],
   "source": [
    "letters = list(map(lambda x: x, 'human'))\n",
    "\n",
    "print(letters)"
   ]
  },
  {
   "cell_type": "code",
   "execution_count": 40,
   "metadata": {},
   "outputs": [
    {
     "name": "stdout",
     "output_type": "stream",
     "text": [
      "[0, 10, 20, 30, 40, 50, 60, 70, 80, 90]\n"
     ]
    }
   ],
   "source": [
    "num_list = [y for y in range(100) if y%2 == 0 if y % 5 == 0]\n",
    "\n",
    "print(num_list)"
   ]
  },
  {
   "cell_type": "code",
   "execution_count": 43,
   "metadata": {},
   "outputs": [],
   "source": [
    "from collections import Counter\n",
    "\n",
    "def solution(genres, plays):\n",
    "    col = Counter(genres, plays)\n",
    "    \n",
    "    return answer"
   ]
  },
  {
   "cell_type": "markdown",
   "metadata": {},
   "source": [
    "# 장르별 나누기\n",
    "\n",
    "문제 설명\n",
    "\n",
    "스트리밍 사이트에서 장르 별로 가장 많이 재생된 노래를 두 개씩 모아 베스트 앨범을 출시하려 합니다. 노래는 고유 번호로 구분하며, 노래를 수록하는 기준은 다음과 같습니다.\n",
    "\n",
    "속한 노래가 많이 재생된 장르를 먼저 수록합니다.\n",
    "장르 내에서 많이 재생된 노래를 먼저 수록합니다.\n",
    "장르 내에서 재생 횟수가 같은 노래 중에서는 고유 번호가 낮은 노래를 먼저 수록합니다.\n",
    "노래의 장르를 나타내는 문자열 배열 genres와 노래별 재생 횟수를 나타내는 정수 배열 plays가 주어질 때, 베스트 앨범에 들어갈 노래의 고유 번호를 순서대로 return 하도록 solution 함수를 완성하세요.\n",
    "\n",
    "제한사항\n",
    "genres[i]는 고유번호가 i인 노래의 장르입니다.\n",
    "plays[i]는 고유번호가 i인 노래가 재생된 횟수입니다.\n",
    "genres와 plays의 길이는 같으며, 이는 1 이상 10,000 이하입니다.\n",
    "장르 종류는 100개 미만입니다.\n",
    "장르에 속한 곡이 하나라면, 하나의 곡만 선택합니다.\n",
    "모든 장르는 재생된 횟수가 다릅니다."
   ]
  },
  {
   "cell_type": "code",
   "execution_count": 2,
   "metadata": {},
   "outputs": [
    {
     "name": "stdout",
     "output_type": "stream",
     "text": [
      "[4, 1, 3, 0]\n"
     ]
    }
   ],
   "source": [
    "from collections import defaultdict\n",
    "from operator import itemgetter\n",
    "\n",
    "answer = []\n",
    "\n",
    "\n",
    "def solution(genres, plays):\n",
    "    # 장르별 랭킹 나누기\n",
    "\n",
    "    genre_play_dict = defaultdict(lambda: 0)\n",
    "\n",
    "    for genre, play in zip(genres, plays):\n",
    "        genre_play_dict[genre] += play\n",
    "\n",
    "    genre_rank = [genre for genre, play in sorted(genre_play_dict.items(), key=itemgetter(1), reverse=True)]\n",
    "\n",
    "    final_dict = defaultdict(lambda: [])\n",
    "\n",
    "    for i, genre_play_tuple in enumerate(zip(genres, plays)):\n",
    "        final_dict[genre_play_tuple[0]].append((genre_play_tuple[1], i))\n",
    "\n",
    "    answer = []\n",
    "\n",
    "    for genre in genre_rank:\n",
    "        one_genre_list = sorted(final_dict[genre], key=itemgetter(0), reverse=True)\n",
    "\n",
    "        if len(one_genre_list) > 1:\n",
    "            answer.append(one_genre_list[0][1])\n",
    "            answer.append(one_genre_list[1][1])\n",
    "\n",
    "        else:\n",
    "            answer.append(one_genre_list[0][1])\n",
    "\n",
    "    return answer\n",
    "\n",
    "\n",
    "print(solution([\"classic\", \"pop\", \"classic\", \"classic\", \"pop\"], [500, 600, 150, 800, 2500]))\n",
    "\n"
   ]
  },
  {
   "cell_type": "code",
   "execution_count": null,
   "metadata": {},
   "outputs": [],
   "source": []
  }
 ],
 "metadata": {
  "kernelspec": {
   "display_name": "Python 3",
   "language": "python",
   "name": "python3"
  },
  "language_info": {
   "codemirror_mode": {
    "name": "ipython",
    "version": 3
   },
   "file_extension": ".py",
   "mimetype": "text/x-python",
   "name": "python",
   "nbconvert_exporter": "python",
   "pygments_lexer": "ipython3",
   "version": "3.7.6"
  }
 },
 "nbformat": 4,
 "nbformat_minor": 4
}
