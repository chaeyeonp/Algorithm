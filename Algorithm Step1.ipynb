{
 "cells": [
  {
   "cell_type": "markdown",
   "metadata": {},
   "source": [
    "## 1번\n",
    "\n",
    "문제 설명 \n",
    "\n",
    "두 정수 a, b가 주어졌을 때 a와 b 사이에 속한 모든 정수의 합을 리턴하는 함수, solution을 완성하세요.\n",
    "예를 들어 a = 3, b = 5인 경우, 3 + 4 + 5 = 12이므로 12를 리턴합니다.\n",
    "\n",
    "제한 조건\n",
    "\n",
    "a와 b가 같은 경우는 둘 중 아무 수나 리턴하세요.\n",
    "a와 b는 -10,000,000 이상 10,000,000 이하인 정수입니다.\n",
    "a와 b의 대소관계는 정해져있지 않습니다.\n",
    "\n",
    "### 포인트: range(), sum()\n",
    "\n",
    "How to change order\n",
    "\n",
    " if a>=b : a, b = b,a"
   ]
  },
  {
   "cell_type": "code",
   "execution_count": 4,
   "metadata": {},
   "outputs": [
    {
     "data": {
      "text/plain": [
       "6"
      ]
     },
     "execution_count": 4,
     "metadata": {},
     "output_type": "execute_result"
    }
   ],
   "source": [
    "def solution(a,b):\n",
    "    answer = 0\n",
    "    \n",
    "    if a<b:\n",
    "        for i in range(a, b+1):\n",
    "            answer += i\n",
    "        \n",
    "    else:\n",
    "        for i in range(b, a+1):\n",
    "            answer += i\n",
    "\n",
    "    return answer\n",
    "\n",
    "solution(1,3)\n",
    "    "
   ]
  },
  {
   "cell_type": "code",
   "execution_count": 16,
   "metadata": {},
   "outputs": [
    {
     "data": {
      "text/plain": [
       "33"
      ]
     },
     "execution_count": 16,
     "metadata": {},
     "output_type": "execute_result"
    }
   ],
   "source": [
    "def solution(a,b):\n",
    "    answer = 0\n",
    "    \n",
    "    if a>b:\n",
    "        temp = a\n",
    "        a = b\n",
    "        b = temp\n",
    "        \n",
    "    if a==b:\n",
    "        answer = a\n",
    "        \n",
    "    else:\n",
    "        for i in range(a,b+1):\n",
    "            \n",
    "            answer = answer + i\n",
    "            \n",
    "    return answer\n",
    "\n",
    "solution(3,8)"
   ]
  },
  {
   "cell_type": "code",
   "execution_count": 11,
   "metadata": {},
   "outputs": [
    {
     "name": "stdout",
     "output_type": "stream",
     "text": [
      "15\n"
     ]
    }
   ],
   "source": [
    "# sum 함수 사용\n",
    "\n",
    "def solution(a,b):\n",
    "    \n",
    "    if a>=b : a, b = b,a\n",
    "        \n",
    "    return sum(range(a, b+1))\n",
    "\n",
    "\n",
    "print(solution(1,5))"
   ]
  },
  {
   "cell_type": "code",
   "execution_count": 14,
   "metadata": {},
   "outputs": [
    {
     "name": "stdout",
     "output_type": "stream",
     "text": [
      "12\n"
     ]
    }
   ],
   "source": [
    "def adder(a,b):\n",
    "    \n",
    "    return sum(range(min(a,b), max(a,b) + 1))\n",
    "\n",
    "print(adder(3,5))"
   ]
  },
  {
   "cell_type": "code",
   "execution_count": 15,
   "metadata": {},
   "outputs": [
    {
     "data": {
      "text/plain": [
       "35"
      ]
     },
     "execution_count": 15,
     "metadata": {},
     "output_type": "execute_result"
    }
   ],
   "source": [
    "def solution(a,b):\n",
    "    \n",
    "    return sum(range(a,b+1) if a<=b else range(b,a+1))\n",
    "\n",
    "\n",
    "solution(2,8)"
   ]
  },
  {
   "cell_type": "markdown",
   "metadata": {},
   "source": [
    "## 2번 \n",
    "문제 설명\n",
    "\n",
    "길이가 n이고, 수박수박수박수....와 같은 패턴을 유지하는 문자열을 리턴하는 함수, solution을 완성하세요. 예를들어 n이 4이면 수박수박을 리턴하고 3이라면 수박수를 리턴하면 됩니다.\n",
    "\n",
    "제한 조건\n",
    "\n",
    "n은 길이 10,000이하인 자연수입니다.\n",
    "\n",
    "\n",
    "### 포인트: 슬라이스(slice)"
   ]
  },
  {
   "cell_type": "code",
   "execution_count": 25,
   "metadata": {},
   "outputs": [
    {
     "name": "stdout",
     "output_type": "stream",
     "text": [
      "수박수박수박수박\n",
      "수박수\n"
     ]
    }
   ],
   "source": [
    "#n의 숫자에 따라 수, 박 반복\n",
    "\n",
    "def solution(n):\n",
    "    answer = ''\n",
    "    \n",
    "    for i in range(n):\n",
    "        if i % 2==0:\n",
    "            answer += \"수\"\n",
    "            \n",
    "        else:\n",
    "            answer += \"박\"\n",
    "            \n",
    "            \n",
    "        \n",
    "    return answer\n",
    "        \n",
    "print(solution(8))\n",
    "print(solution(3))"
   ]
  },
  {
   "cell_type": "code",
   "execution_count": 26,
   "metadata": {},
   "outputs": [
    {
     "name": "stdout",
     "output_type": "stream",
     "text": [
      "n이 3인 경우수박수\n"
     ]
    }
   ],
   "source": [
    "def water_melon(n):\n",
    "    s = \"수박\" * n\n",
    "    \n",
    "    return s[:n]\n",
    "\n",
    "\n",
    "print(\"n이 3인 경우 \" + water_melon(3))\n"
   ]
  },
  {
   "cell_type": "code",
   "execution_count": 27,
   "metadata": {},
   "outputs": [
    {
     "name": "stdout",
     "output_type": "stream",
     "text": [
      "n이 3인 경우: 수박수\n",
      "n이 4인 경우: 수박수박\n"
     ]
    }
   ],
   "source": [
    "def water_melon(n):\n",
    "    return (\"수박\"*n)[0:n]\n",
    "\n",
    "\n",
    "# 실행을 위한 테스트코드입니다.\n",
    "print(\"n이 3인 경우: \" + water_melon(3));\n",
    "print(\"n이 4인 경우: \" + water_melon(4));"
   ]
  },
  {
   "cell_type": "markdown",
   "metadata": {},
   "source": [
    "## 3번\n",
    "\n",
    "문제 설명\n",
    "\n",
    "String형 배열 seoul의 element중 Kim의 위치 x를 찾아, 김서방은 x에 있다는 String을 반환하는 함수, solution을 완성하세요. seoul에 Kim은 오직 한 번만 나타나며 잘못된 값이 입력되는 경우는 없습니다.\n",
    "\n",
    "제한 사항\n",
    "\n",
    "seoul은 길이 1 이상, 1000 이하인 배열입니다.\n",
    "seoul의 원소는 길이 1 이상, 20 이하인 문자열입니다.\n",
    "Kim은 반드시 seoul 안에 포함되어 있습니다.\n",
    "\n",
    "### 포인트 : enumerate, index(), format()"
   ]
  },
  {
   "cell_type": "code",
   "execution_count": 49,
   "metadata": {},
   "outputs": [
    {
     "data": {
      "text/plain": [
       "'김서방은 0에 있다'"
      ]
     },
     "execution_count": 49,
     "metadata": {},
     "output_type": "execute_result"
    }
   ],
   "source": [
    "def solution(seoul):\n",
    "     \n",
    "    \n",
    "    for i, name in enumerate(seoul):\n",
    "        if name == 'Kim':\n",
    "            return \"김서방은 {}에 있다\".format(i)\n",
    "        \n",
    "    \n",
    "solution([\"Kim\",\"Park\"])"
   ]
  },
  {
   "cell_type": "code",
   "execution_count": 51,
   "metadata": {},
   "outputs": [
    {
     "data": {
      "text/plain": [
       "'김서방은 0에 있다.'"
      ]
     },
     "execution_count": 51,
     "metadata": {},
     "output_type": "execute_result"
    }
   ],
   "source": [
    "def solution(seoul):\n",
    "    return \"김서방은 {}에 있다.\".format(seoul.index('Kim'))\n",
    "\n",
    "solution([\"Kim\",\"Park\"])"
   ]
  },
  {
   "cell_type": "code",
   "execution_count": 52,
   "metadata": {},
   "outputs": [
    {
     "name": "stdout",
     "output_type": "stream",
     "text": [
      "김서방은 2에 있다\n"
     ]
    }
   ],
   "source": [
    "def findKim(seoul):\n",
    "    kimIdx = 0\n",
    "    # 함수를 완성하세요\n",
    "    for i in range(len(seoul)):\n",
    "        if seoul[i]==\"Kim\":\n",
    "            return \"김서방은 {}에 있다\".format(i)\n",
    "\n",
    "# 실행을 위한 테스트코드입니다.\n",
    "print(findKim([\"Queen\", \"Tod\", \"Kim\"]))"
   ]
  },
  {
   "cell_type": "markdown",
   "metadata": {},
   "source": [
    "## 4번\n",
    "\n",
    "문제 설명\n",
    "\n",
    "정수 n을 입력받아 n의 약수를 모두 더한 값을 리턴하는 함수, solution을 완성해주세요.\n",
    "\n",
    "제한 사항\n",
    "\n",
    "n은 0 이상 3000이하인 정수입니다."
   ]
  },
  {
   "cell_type": "code",
   "execution_count": 73,
   "metadata": {},
   "outputs": [
    {
     "data": {
      "text/plain": [
       "31"
      ]
     },
     "execution_count": 73,
     "metadata": {},
     "output_type": "execute_result"
    }
   ],
   "source": [
    "def solution(n):\n",
    "    \n",
    "    return sum([i for i in range(1, n + 1) if n%i ==0])\n",
    "\n",
    "\n",
    "solution(25)"
   ]
  },
  {
   "cell_type": "code",
   "execution_count": 76,
   "metadata": {},
   "outputs": [
    {
     "data": {
      "text/plain": [
       "26"
      ]
     },
     "execution_count": 76,
     "metadata": {},
     "output_type": "execute_result"
    }
   ],
   "source": [
    "def solution(n):\n",
    "    answer = 0\n",
    "    \n",
    "    for i in range(n+1):\n",
    "        i = 1\n",
    "        if n%i == 0:\n",
    "            answer+= i\n",
    "            \n",
    "        else:\n",
    "            continue\n",
    "\n",
    "    \n",
    "    return answer\n",
    "\n",
    "solution(25)"
   ]
  },
  {
   "cell_type": "markdown",
   "metadata": {},
   "source": [
    "## 5번 문자열 내 p와 y의 개수\n",
    "\n",
    "문제 설명\n",
    "\n",
    "대문자와 소문자가 섞여있는 문자열 s가 주어집니다. s에 'p'의 개수와 'y'의 개수를 비교해 같으면 True, 다르면 False를 return 하는 solution를 완성하세요. 'p', 'y' 모두 하나도 없는 경우는 항상 True를 리턴합니다. 단, 개수를 비교할 때 대문자와 소문자는 구별하지 않습니다.\n",
    "\n",
    "예를 들어 s가 pPoooyY면 true를 return하고 Pyy라면 false를 return합니다.\n",
    "\n",
    "제한사항\n",
    "\n",
    "문자열 s의 길이 : 50 이하의 자연수\n",
    "문자열 s는 알파벳으로만 이루어져 있습니다."
   ]
  },
  {
   "cell_type": "code",
   "execution_count": 84,
   "metadata": {},
   "outputs": [
    {
     "name": "stdout",
     "output_type": "stream",
     "text": [
      "True\n"
     ]
    }
   ],
   "source": [
    "def solution(s):\n",
    "    return s.lower().count('p') == s.lower().count('y')\n",
    "    \n",
    "print(solution(\"pPooooyY\"))"
   ]
  },
  {
   "cell_type": "code",
   "execution_count": 85,
   "metadata": {},
   "outputs": [],
   "source": [
    "def solution(s):\n",
    "    \n",
    "    if s.count('P') + s.count('p') == s.count('Y') + s.count('y'):\n",
    "        return True\n",
    "    \n",
    "    else:\n",
    "        return False\n",
    "    \n",
    "    \n",
    "    solution(\"pPoooyY\")"
   ]
  },
  {
   "cell_type": "markdown",
   "metadata": {},
   "source": [
    "## 6번 - 같은 숫자는 싫어\n",
    "\n",
    "문제 설명\n",
    "\n",
    "배열 arr가 주어집니다. 배열 arr의 각 원소는 숫자 0부터 9까지로 이루어져 있습니다. 이때, 배열 arr에서 연속적으로 나타나는 숫자는 하나만 남기고 전부 제거하려고 합니다. 단, 제거된 후 남은 수들을 반환할 때는 배열 arr의 원소들의 순서를 유지해야 합니다. 예를 들면,\n",
    "\n",
    "arr = [1, 1, 3, 3, 0, 1, 1] 이면 [1, 3, 0, 1] 을 return 합니다.\n",
    "arr = [4, 4, 4, 3, 3] 이면 [4, 3] 을 return 합니다.\n",
    "배열 arr에서 연속적으로 나타나는 숫자는 제거하고 남은 수들을 return 하는 solution 함수를 완성해 주세요.\n",
    "\n",
    "제한사항\n",
    "\n",
    "배열 arr의 크기 : 1,000,000 이하의 자연수\n",
    "배열 arr의 원소의 크기 : 0보다 크거나 같고 9보다 작거나 같은 정수\n",
    "\n",
    "\n",
    "### 포인트 : slice()\n",
    "\n"
   ]
  },
  {
   "cell_type": "code",
   "execution_count": 99,
   "metadata": {},
   "outputs": [
    {
     "data": {
      "text/plain": [
       "[1, 7, 5, 3]"
      ]
     },
     "execution_count": 99,
     "metadata": {},
     "output_type": "execute_result"
    }
   ],
   "source": [
    "def solution(arr):\n",
    "    \n",
    "    b = []\n",
    "    \n",
    "    for i in range(len(arr)):\n",
    "        \n",
    "        if i == 0:\n",
    "            b.append(arr[i])\n",
    "            \n",
    "        elif arr[i] != arr[i-1]:\n",
    "            b.append(arr[i])\n",
    "            \n",
    "        \n",
    "    \n",
    "    return b\n",
    "\n",
    "solution([1,7,5,3,3,3,3,3])"
   ]
  },
  {
   "cell_type": "code",
   "execution_count": 214,
   "metadata": {},
   "outputs": [
    {
     "name": "stdout",
     "output_type": "stream",
     "text": [
      "['1', '3', '0', '2']\n"
     ]
    }
   ],
   "source": [
    "def no(s):\n",
    "    a = []\n",
    "    \n",
    "    for i in s:\n",
    "        if a[-1:] == [i]: \n",
    "            continue\n",
    "            \n",
    "        a.append(i)\n",
    "        \n",
    "    return a\n",
    "\n",
    "print(no(\"133302\"))"
   ]
  },
  {
   "cell_type": "markdown",
   "metadata": {},
   "source": [
    "## 7번 가운데 글자 가져오기\n",
    "\n",
    "문제 설명\n",
    "\n",
    "단어 s의 가운데 글자를 반환하는 함수, solution을 만들어 보세요. 단어의 길이가 짝수라면 가운데 두글자를 반환하면 됩니다.\n",
    "\n",
    "제한사항\n",
    "\n",
    "s는 길이가 1 이상, 100이하인 스트링입니다."
   ]
  },
  {
   "cell_type": "code",
   "execution_count": 115,
   "metadata": {},
   "outputs": [
    {
     "data": {
      "text/plain": [
       "'t'"
      ]
     },
     "execution_count": 115,
     "metadata": {},
     "output_type": "execute_result"
    }
   ],
   "source": [
    "def middle(str):\n",
    "    \n",
    "    t = len(str)//2\n",
    "    \n",
    "    return str[t] if len(str)%2 else str[t-1:t+1]\n",
    "\n",
    "middle(\"mdidd\")\n",
    "middle(\"beautiful\")"
   ]
  },
  {
   "cell_type": "markdown",
   "metadata": {},
   "source": [
    "class Solution {\n",
    "   public String solution(String s) {\n",
    "        String answer = \"\";\n",
    "        \n",
    "        if(s.length()%2==0) {\n",
    "            answer = s.substring(s.length()/2-1, s.length()/2+1);\n",
    "        } else {\n",
    "            answer = s.substring(s.length()/2,s.length()/2+1);\n",
    "        }\n",
    "        \n",
    "        return answer;\n",
    "    }\n",
    "}"
   ]
  },
  {
   "cell_type": "markdown",
   "metadata": {},
   "source": [
    "## 8번\n",
    "\n",
    "문제 설명\n",
    "\n",
    "함수 solution은 정수 x와 자연수 n을 입력 받아, x부터 시작해 x씩 증가하는 숫자를 n개 지니는 리스트를 리턴해야 합니다. 다음 제한 조건을 보고, 조건을 만족하는 함수, solution을 완성해주세요.\n",
    "\n",
    "제한 조건\n",
    "\n",
    "x는 -10000000 이상, 10000000 이하인 정수입니다.\n",
    "n은 1000 이하인 자연수입니다."
   ]
  },
  {
   "cell_type": "code",
   "execution_count": 122,
   "metadata": {},
   "outputs": [
    {
     "data": {
      "text/plain": [
       "[2, 4, 6]"
      ]
     },
     "execution_count": 122,
     "metadata": {},
     "output_type": "execute_result"
    }
   ],
   "source": [
    "def solution(x,n):\n",
    "    \n",
    "    return [i*x+x for i in range(n)]\n",
    "\n",
    "\n",
    "solution(2,3)"
   ]
  },
  {
   "cell_type": "markdown",
   "metadata": {},
   "source": [
    "## 9번 직사각형 별 찍기\n",
    "\n",
    "문제 설명\n",
    "\n",
    "이 문제에는 표준 입력으로 두 개의 정수 n과 m이 주어집니다.\n",
    "별(*) 문자를 이용해 가로의 길이가 n, 세로의 길이가 m인 직사각형 형태를 출력해보세요"
   ]
  },
  {
   "cell_type": "code",
   "execution_count": 131,
   "metadata": {},
   "outputs": [
    {
     "name": "stdout",
     "output_type": "stream",
     "text": [
      "***\n",
      "***\n",
      "***\n"
     ]
    }
   ],
   "source": [
    "def sq(n,m):\n",
    "    \n",
    "    for i in range(n):\n",
    "            print('*'*m)\n",
    "            \n",
    "\n",
    "sq(2,3)\n",
    "\n",
    "sq(1,3)"
   ]
  },
  {
   "cell_type": "code",
   "execution_count": 133,
   "metadata": {},
   "outputs": [
    {
     "name": "stdout",
     "output_type": "stream",
     "text": [
      "2 5\n",
      "**\n",
      "**\n",
      "**\n",
      "**\n",
      "**\n"
     ]
    }
   ],
   "source": [
    "a,b = map(int,input().strip().split(' '))\n",
    "\n",
    "for i in range(b):\n",
    "    print('*'*a)"
   ]
  },
  {
   "cell_type": "markdown",
   "metadata": {},
   "source": [
    "## 10번 평균 구하기\n",
    "\n",
    "문제 설명\n",
    "\n",
    "정수를 담고 있는 배열 arr의 평균값을 return하는 함수, solution을 완성해보세요.\n",
    "\n",
    "제한사항\n",
    "\n",
    "arr은 길이 1 이상, 100 이하인 배열입니다.\n",
    "arr의 원소는 -10,000 이상 10,000 이하인 정수입니다."
   ]
  },
  {
   "cell_type": "code",
   "execution_count": 136,
   "metadata": {},
   "outputs": [
    {
     "data": {
      "text/plain": [
       "3.0"
      ]
     },
     "execution_count": 136,
     "metadata": {},
     "output_type": "execute_result"
    }
   ],
   "source": [
    "def solution(arr):\n",
    "    return (sum(arr)/len(arr))\n",
    "\n",
    "solution([1, 2, 3, 4, 5])"
   ]
  },
  {
   "cell_type": "code",
   "execution_count": 138,
   "metadata": {},
   "outputs": [
    {
     "name": "stdout",
     "output_type": "stream",
     "text": [
      "평균값: 4.0\n"
     ]
    }
   ],
   "source": [
    "def average(list):\n",
    "    \n",
    "    # ZeroDivisionError 피할 수 있음.\n",
    "    if len(list) == 0:\n",
    "        return 0\n",
    "    \n",
    "    return sum(list)/len(list)\n",
    "\n",
    "list = [5,4,3]\n",
    "\n",
    "print(\"평균값: {}\".format(average(list)))"
   ]
  },
  {
   "cell_type": "markdown",
   "metadata": {},
   "source": [
    "## 11번 행렬의 덧셈\n",
    "\n",
    "문제 설명\n",
    "\n",
    "행렬의 덧셈은 행과 열의 크기가 같은 두 행렬의 같은 행, 같은 열의 값을 서로 더한 결과가 됩니다. 2개의 행렬 arr1과 arr2를 입력받아, 행렬 덧셈의 결과를 반환하는 함수, solution을 완성해주세요.\n",
    "\n",
    "제한 조건\n",
    "\n",
    "행렬 arr1, arr2의 행과 열의 길이는 500을 넘지 않습니다."
   ]
  },
  {
   "cell_type": "code",
   "execution_count": 150,
   "metadata": {},
   "outputs": [
    {
     "data": {
      "text/plain": [
       "[[4, 6], [7, 9]]"
      ]
     },
     "execution_count": 150,
     "metadata": {},
     "output_type": "execute_result"
    }
   ],
   "source": [
    "def solution(arr1, arr2):\n",
    "    return [[c + d for c, d in zip(a, b)] for a, b in zip(arr1,arr2)]\n",
    "\n",
    "sum([[1,2],[2,3]],[[3,4],[5,6]])"
   ]
  },
  {
   "cell_type": "code",
   "execution_count": 151,
   "metadata": {
    "scrolled": true
   },
   "outputs": [
    {
     "name": "stdout",
     "output_type": "stream",
     "text": [
      "[[4, 6], [7, 9]]\n"
     ]
    }
   ],
   "source": [
    "def sumMatrix(A,B):\n",
    "    for i in range(len(A)) :\n",
    "        for j in range(len(A[0])):\n",
    "            A[i][j] += B[i][j] \n",
    "    return A\n",
    "\n",
    "# 아래는 테스트로 출력해 보기 위한 코드입니다.\n",
    "print(sumMatrix([[1,2], [2,3]], [[3,4],[5,6]]))"
   ]
  },
  {
   "cell_type": "markdown",
   "metadata": {},
   "source": [
    "## 12번 짝수와 홀수\n",
    "\n",
    "문제 설명\n",
    "\n",
    "정수 num이 짝수일 경우 Even을 반환하고 홀수인 경우 Odd를 반환하는 함수, solution을 완성해주세요.\n",
    "\n",
    "제한 조건\n",
    "\n",
    "num은 int 범위의 정수입니다.\n",
    "0은 짝수입니다."
   ]
  },
  {
   "cell_type": "code",
   "execution_count": 156,
   "metadata": {},
   "outputs": [
    {
     "data": {
      "text/plain": [
       "'Odd'"
      ]
     },
     "execution_count": 156,
     "metadata": {},
     "output_type": "execute_result"
    }
   ],
   "source": [
    "\n",
    "\n",
    "def solution(num):\n",
    "       \n",
    "    zero = num % 2 == 0\n",
    "    \n",
    "    if zero == True:\n",
    "        return(\"Even\")\n",
    "    \n",
    "    if zero == False:\n",
    "        return(\"Odd\")\n",
    "    \n",
    "\n",
    "solution(3)"
   ]
  },
  {
   "cell_type": "code",
   "execution_count": 158,
   "metadata": {},
   "outputs": [
    {
     "data": {
      "text/plain": [
       "'Odd'"
      ]
     },
     "execution_count": 158,
     "metadata": {},
     "output_type": "execute_result"
    }
   ],
   "source": [
    "def solution(num):\n",
    "    \n",
    "    return \"Even\" if num%2 == 0 else \"Odd\"\n",
    "\n",
    "solution(3)"
   ]
  },
  {
   "cell_type": "markdown",
   "metadata": {},
   "source": [
    "## 13번 자릿수 더하기\n",
    "\n",
    "문제 설명\n",
    "\n",
    "자연수 N이 주어지면, N의 각 자릿수의 합을 구해서 return 하는 solution 함수를 만들어 주세요.\n",
    "예를들어 N = 123이면 1 + 2 + 3 = 6을 return 하면 됩니다.\n",
    "\n",
    "제한사항\n",
    "\n",
    "N의 범위 : 100,000,000 이하의 자연수"
   ]
  },
  {
   "cell_type": "code",
   "execution_count": 166,
   "metadata": {},
   "outputs": [],
   "source": [
    "def solution(N):\n",
    "    return sum(map(int,str(N)))\n"
   ]
  },
  {
   "cell_type": "code",
   "execution_count": 171,
   "metadata": {},
   "outputs": [],
   "source": [
    "def solution(N):\n",
    "    \n",
    "    return sum([int(i) for i in str(N)])"
   ]
  },
  {
   "cell_type": "markdown",
   "metadata": {},
   "source": [
    "## 14번 최대공약수와 최소공배수\n",
    "\n",
    "문제 설명\n",
    "\n",
    "두 수를 입력받아 두 수의 최대공약수와 최소공배수를 반환하는 함수, solution을 완성해 보세요. 배열의 맨 앞에 최대공약수, 그다음 최소공배수를 넣어 반환하면 됩니다. 예를 들어 두 수 3, 12의 최대공약수는 3, 최소공배수는 12이므로 solution(3, 12)는 [3, 12]를 반환해야 합니다.\n",
    "\n",
    "제한 사항\n",
    "\n",
    "두 수는 1이상 1000000이하의 자연수입니다."
   ]
  },
  {
   "cell_type": "code",
   "execution_count": 177,
   "metadata": {},
   "outputs": [
    {
     "data": {
      "text/plain": [
       "[1, 6.0]"
      ]
     },
     "execution_count": 177,
     "metadata": {},
     "output_type": "execute_result"
    }
   ],
   "source": [
    "def solution(n,m):\n",
    "    \n",
    "    N = [i for i in range(1, n+1) if n%i == 0]\n",
    "    M = [i for i in range(1, m+1) if m%i == 0]\n",
    "    \n",
    "    Max = max([i for i in N if i in M])\n",
    "    \n",
    "    Min = Max * (n/Max) * (m/Max)\n",
    "    \n",
    "    answer = [Max, Min]\n",
    "    \n",
    "    return answer\n",
    "\n",
    "\n",
    "solution(2,3)"
   ]
  },
  {
   "cell_type": "code",
   "execution_count": 178,
   "metadata": {},
   "outputs": [
    {
     "name": "stdout",
     "output_type": "stream",
     "text": [
      "[3, 12]\n"
     ]
    }
   ],
   "source": [
    "###모르겠다.\n",
    "\n",
    "def gcdlcm(a, b):\n",
    "    c, d = max(a, b), min(a, b)\n",
    "    t = 1\n",
    "    while t > 0:\n",
    "        t = c % d\n",
    "        c, d = d, t\n",
    "    answer = [c, int(a*b/c)]\n",
    "\n",
    "    return answer\n",
    "\n",
    "# 아래는 테스트로 출력해 보기 위한 코드입니다.\n",
    "print(gcdlcm(3,12))"
   ]
  },
  {
   "cell_type": "markdown",
   "metadata": {},
   "source": [
    "# 15번 정수 제곱근  판별\n",
    "\n",
    "문제 설명\n",
    "\n",
    "임의의 양의 정수 n에 대해, n이 어떤 양의 정수 x의 제곱인지 아닌지 판단하려 합니다.\n",
    "n이 양의 정수 x의 제곱이라면 x+1의 제곱을 리턴하고, n이 양의 정수 x의 제곱이 아니라면 -1을 리턴하는 함수를 완성하세요.\n",
    "\n",
    "제한 사항\n",
    "\n",
    "n은 1이상, 50000000000000 이하인 양의 정수입니다."
   ]
  },
  {
   "cell_type": "code",
   "execution_count": 181,
   "metadata": {},
   "outputs": [
    {
     "data": {
      "text/plain": [
       "-1"
      ]
     },
     "execution_count": 181,
     "metadata": {},
     "output_type": "execute_result"
    }
   ],
   "source": [
    "def solution(n):\n",
    "\n",
    "    sqrt = n ** (1/2)\n",
    "\n",
    "    if sqrt % 1 == 0:\n",
    "        return (sqrt+1) ** 2\n",
    "\n",
    "    return -1\n",
    "\n",
    "solution(5)"
   ]
  },
  {
   "cell_type": "code",
   "execution_count": 182,
   "metadata": {},
   "outputs": [
    {
     "name": "stdout",
     "output_type": "stream",
     "text": [
      "결과 : 144\n"
     ]
    }
   ],
   "source": [
    "def nextSqure(n):\n",
    "    return n == int(n**.5)**2 and int(n**.5+1)**2 or 'no'\n",
    "\n",
    "# 아래는 테스트로 출력해 보기 위한 코드입니다.\n",
    "print(\"결과 : {}\".format(nextSqure(121)));"
   ]
  },
  {
   "cell_type": "markdown",
   "metadata": {},
   "source": [
    "## 16번 문자열 다루기 기본\n",
    "\n",
    "문자열 s의 길이가 4 혹은 6이고, 숫자로만 구성돼있는지 확인해주는 함수, solution을 완성하세요. 예를 들어 s가 a234이면 False를 리턴하고 1234라면 True를 리턴하면 됩니다.\n",
    "\n",
    "s는 길이 1 이상, 길이 8 이하인 문자열입니다."
   ]
  },
  {
   "cell_type": "code",
   "execution_count": 184,
   "metadata": {},
   "outputs": [
    {
     "data": {
      "text/plain": [
       "True"
      ]
     },
     "execution_count": 184,
     "metadata": {},
     "output_type": "execute_result"
    }
   ],
   "source": [
    "def solution(s):\n",
    "    if (len(s) == 4 or len(s) == 6) and s.isdigit():\n",
    "        return True\n",
    "    \n",
    "    else:\n",
    "        return False\n",
    "    \n",
    "solution(\"1234\")"
   ]
  },
  {
   "cell_type": "code",
   "execution_count": 186,
   "metadata": {},
   "outputs": [
    {
     "data": {
      "text/plain": [
       "True"
      ]
     },
     "execution_count": 186,
     "metadata": {},
     "output_type": "execute_result"
    }
   ],
   "source": [
    "def solution(s):\n",
    "    \n",
    "    return s.isdigit() and (len(s) == 4 or len(s) ==6)\n",
    "\n",
    "solution(\"1234\")"
   ]
  },
  {
   "cell_type": "markdown",
   "metadata": {},
   "source": [
    "## 17번 정수 내림차순으로 배치하기\n",
    "\n",
    "문제 설명\n",
    "함수 solution은 정수 n을 매개변수로 입력받습니다. n의 각 자릿수를 큰것부터 작은 순으로 정렬한 새로운 정수를 리턴해주세요. 예를들어 n이 118372면 873211을 리턴하면 됩니다.\n",
    "\n",
    "제한 조건\n",
    "n은 1이상 8000000000 이하인 자연수입니다."
   ]
  },
  {
   "cell_type": "code",
   "execution_count": 187,
   "metadata": {},
   "outputs": [],
   "source": [
    "def solution(n):\n",
    "    return int(''.join(sorted(str(n),reverse = True)))"
   ]
  },
  {
   "cell_type": "markdown",
   "metadata": {},
   "source": [
    "## 18번 자연수 뒤집어 배열로 만들기\n",
    "\n",
    "문제 설명\n",
    "\n",
    "자연수 n을 뒤집어 각 자리 숫자를 원소로 가지는 배열 형태로 리턴해주세요. 예를들어 n이 12345이면 [5,4,3,2,1]을 리턴합니다.\n",
    "\n",
    "제한 조건\n",
    "\n",
    "n은 10,000,000,000이하인 자연수입니다."
   ]
  },
  {
   "cell_type": "code",
   "execution_count": 188,
   "metadata": {},
   "outputs": [],
   "source": [
    "def solution(n):\n",
    "    return [int(i) for i in str(n)][::-1]"
   ]
  },
  {
   "cell_type": "markdown",
   "metadata": {},
   "source": [
    "## 19번 핸드폰 번호 가리기\n",
    "\n",
    "문제 설명\n",
    "\n",
    "프로그래머스 모바일은 개인정보 보호를 위해 고지서를 보낼 때 고객들의 전화번호의 일부를 가립니다.\n",
    "전화번호가 문자열 phone_number로 주어졌을 때, 전화번호의 뒷 4자리를 제외한 나머지 숫자를 전부 *으로 가린 문자열을 리턴하는 함수, solution을 완성해주세요.\n",
    "\n",
    "제한 조건\n",
    "\n",
    "s는 길이 4 이상, 20이하인 문자열입니다."
   ]
  },
  {
   "cell_type": "code",
   "execution_count": 189,
   "metadata": {},
   "outputs": [],
   "source": [
    "def solution(phone_number):\n",
    "    star = \"\"\n",
    "    for i in range(len(phone_number) - 4):\n",
    "        star += \"*\"\n",
    "        \n",
    "    return star + \"\"+ phone_number[-4:]"
   ]
  },
  {
   "cell_type": "markdown",
   "metadata": {},
   "source": [
    "## 20번 K번째 수\n",
    "\n",
    "문제 설명\n",
    "배열 array의 i번째 숫자부터 j번째 숫자까지 자르고 정렬했을 때, k번째에 있는 수를 구하려 합니다.\n",
    "\n",
    "예를 들어 array가 [1, 5, 2, 6, 3, 7, 4], i = 2, j = 5, k = 3이라면\n",
    "\n",
    "array의 2번째부터 5번째까지 자르면 [5, 2, 6, 3]입니다.\n",
    "1에서 나온 배열을 정렬하면 [2, 3, 5, 6]입니다.\n",
    "2에서 나온 배열의 3번째 숫자는 5입니다.\n",
    "배열 array, [i, j, k]를 원소로 가진 2차원 배열 commands가 매개변수로 주어질 때, commands의 모든 원소에 대해 앞서 설명한 연산을 적용했을 때 나온 결과를 배열에 담아 return 하도록 solution 함수를 작성해주세요.\n",
    "\n",
    "제한사항\n",
    "array의 길이는 1 이상 100 이하입니다.\n",
    "array의 각 원소는 1 이상 100 이하입니다.\n",
    "commands의 길이는 1 이상 50 이하입니다.\n",
    "commands의 각 원소는 길이가 3입니다."
   ]
  },
  {
   "cell_type": "code",
   "execution_count": 190,
   "metadata": {},
   "outputs": [],
   "source": [
    "def solution(array, commands):\n",
    "    answer = []\n",
    "    \n",
    "    for command in commands:\n",
    "        i,j,k = command[0],command[1], command[2]\n",
    "        slice = array[i-1:j]\n",
    "        \n",
    "        slice.sort()\n",
    "        \n",
    "        answer.append(slice[k-1])\n",
    "    \n",
    "    return answer"
   ]
  },
  {
   "cell_type": "code",
   "execution_count": 191,
   "metadata": {},
   "outputs": [],
   "source": [
    "def solution(array, commands):\n",
    "    return list(map(lambda x:sorted(array[x[0]-1:x[1]])[x[2]-1], commands))"
   ]
  },
  {
   "cell_type": "markdown",
   "metadata": {},
   "source": [
    "## 21번 하샤드 수\n",
    "\n",
    "문제 설명\n",
    "\n",
    "양의 정수 x가 하샤드 수이려면 x의 자릿수의 합으로 x가 나누어져야 합니다. 예를 들어 18의 자릿수 합은 1+8=9이고, 18은 9로 나누어 떨어지므로 18은 하샤드 수입니다. 자연수 x를 입력받아 x가 하샤드 수인지 아닌지 검사하는 함수, solution을 완성해주세요.\n",
    "\n",
    "제한 조건\n",
    "\n",
    "x는 1 이상, 10000 이하인 정수입니다.\n",
    "\n",
    "### 포인트 : return문제 비교연산자 가능, 스트링"
   ]
  },
  {
   "cell_type": "code",
   "execution_count": 195,
   "metadata": {},
   "outputs": [],
   "source": [
    "# 양의 정수 x가 하샤드 수 -> x의 자릿수의 합으로 x가 나누어져야 한다.\n",
    "\n",
    "# x의 모든 자릿수 합 구한 후 그 수를 합으로 나누어떨어지면 true 리턴\n",
    "def solution(x):\n",
    "    answer = True\n",
    "    s = sum([int(i) for i in str(x)])\n",
    "    if x % s != 0:\n",
    "        answer = False\n",
    "    return answer"
   ]
  },
  {
   "cell_type": "code",
   "execution_count": 196,
   "metadata": {},
   "outputs": [],
   "source": [
    "def Harshad(n):\n",
    "    # n은 하샤드 수 인가요?\n",
    "    return n % sum([int(c) for c in str(n)]) == 0\n",
    "\n"
   ]
  },
  {
   "cell_type": "markdown",
   "metadata": {},
   "source": [
    "## 22번 나누어 떨어지는 숫자 배열\n",
    "\n",
    "문제 설명\n",
    "\n",
    "array의 각 element 중 divisor로 나누어 떨어지는 값을 오름차순으로 정렬한 배열을 반환하는 함수, solution을 작성해주세요.\n",
    "divisor로 나누어 떨어지는 element가 하나도 없다면 배열에 -1을 담아 반환하세요.\n",
    "\n",
    "제한사항\n",
    "\n",
    "arr은 자연수를 담은 배열입니다.\n",
    "정수 i, j에 대해 i ≠ j 이면 arr[i] ≠ arr[j] 입니다.\n",
    "divisor는 자연수입니다.\n",
    "array는 길이 1 이상인 배열입니다."
   ]
  },
  {
   "cell_type": "code",
   "execution_count": 199,
   "metadata": {},
   "outputs": [],
   "source": [
    "def solution(arr, divisor):\n",
    "    \n",
    "    # arr 리스트를 순회하며 각각의 원소들을 divisor 값으로 나누어 나머지가 0인 경우 answer 리스트에 넣는다.\n",
    "    \n",
    "    answer = [x for x in arr if x %divisor == 0]\n",
    "    \n",
    "    #오름차순\n",
    "    answer.sort()\n",
    "    \n",
    "    # 0인 경우 배열에 -1을 담아 반환(return)\n",
    "    return answer if len(answer)!= 0 else [-1]\n",
    "    "
   ]
  },
  {
   "cell_type": "markdown",
   "metadata": {},
   "source": [
    "## 23번 모의고사\n",
    "\n",
    "문제 설명\n",
    "\n",
    "수포자는 수학을 포기한 사람의 준말입니다. 수포자 삼인방은 모의고사에 수학 문제를 전부 찍으려 합니다. 수포자는 1번 문제부터 마지막 문제까지 다음과 같이 찍습니다.\n",
    "\n",
    "1번 수포자가 찍는 방식: 1, 2, 3, 4, 5, 1, 2, 3, 4, 5, ...\n",
    "2번 수포자가 찍는 방식: 2, 1, 2, 3, 2, 4, 2, 5, 2, 1, 2, 3, 2, 4, 2, 5, ...\n",
    "3번 수포자가 찍는 방식: 3, 3, 1, 1, 2, 2, 4, 4, 5, 5, 3, 3, 1, 1, 2, 2, 4, 4, 5, 5, ...\n",
    "\n",
    "1번 문제부터 마지막 문제까지의 정답이 순서대로 들은 배열 answers가 주어졌을 때, 가장 많은 문제를 맞힌 사람이 누구인지 배열에 담아 return 하도록 solution 함수를 작성해주세요.\n",
    "\n",
    "제한 조건\n",
    "\n",
    "시험은 최대 10,000 문제로 구성되어있습니다.\n",
    "문제의 정답은 1, 2, 3, 4, 5중 하나입니다.\n",
    "가장 높은 점수를 받은 사람이 여럿일 경우, return하는 값을 오름차순 정렬해주세요."
   ]
  },
  {
   "cell_type": "code",
   "execution_count": 205,
   "metadata": {},
   "outputs": [
    {
     "data": {
      "text/plain": [
       "[1]"
      ]
     },
     "execution_count": 205,
     "metadata": {},
     "output_type": "execute_result"
    }
   ],
   "source": [
    "\"\"\"\n",
    "1번 1,2,3,4,5\n",
    "2번 2, 1, 2, 3, 2, 4, 2, 5\n",
    "3번 3, 3, 1, 1, 2, 2, 4, 4, 5, 5\n",
    "\"\"\"\n",
    "\n",
    "def solution(answers):\n",
    "    answer = []\n",
    "\n",
    "    numberone = [1,2,3,4,5]\n",
    "    numbertwo = [2,1,2,3,2,4,2,5]\n",
    "    numberthree = [3, 3, 1, 1, 2, 2, 4, 4, 5, 5]\n",
    "\n",
    "    first = 0\n",
    "    second = 0\n",
    "    third = 0\n",
    "\n",
    "\n",
    "    for number in range(len(answers)):\n",
    "    \n",
    "        if answers[number] == numberone[number % 5]:\n",
    "            first += 1\n",
    "        \n",
    "    \n",
    "        if answers[number] == numbertwo[number % 8]:\n",
    "            second += 1\n",
    "        \n",
    "        if answers[number] == numberthree[number%10]:\n",
    "            third += 1\n",
    "        \n",
    "    result = [first, second, third]\n",
    "\n",
    "    for person,score in enumerate(result):\n",
    "        if score == max(result):\n",
    "            answer.append(person+1)\n",
    "        \n",
    "    \n",
    "    return answer\n",
    "\n",
    "\n",
    "solution([1,2,3,4,5])\n",
    "    "
   ]
  },
  {
   "cell_type": "markdown",
   "metadata": {},
   "source": [
    "## 24번 완주하지 못한 선수\n",
    "\n",
    "문제 설명\n",
    "\n",
    "수많은 마라톤 선수들이 마라톤에 참여하였습니다. 단 한 명의 선수를 제외하고는 모든 선수가 마라톤을 완주하였습니다.\n",
    "\n",
    "마라톤에 참여한 선수들의 이름이 담긴 배열 participant와 완주한 선수들의 이름이 담긴 배열 completion이 주어질 때, 완주하지 못한 선수의 이름을 return 하도록 solution 함수를 작성해주세요.\n",
    "\n",
    "제한사항\n",
    "\n",
    "마라톤 경기에 참여한 선수의 수는 1명 이상 100,000명 이하입니다.\n",
    "completion의 길이는 participant의 길이보다 1 작습니다.\n",
    "참가자의 이름은 1개 이상 20개 이하의 알파벳 소문자로 이루어져 있습니다.\n",
    "참가자 중에는 동명이인이 있을 수 있습니다."
   ]
  },
  {
   "cell_type": "code",
   "execution_count": 206,
   "metadata": {},
   "outputs": [],
   "source": [
    "def solution(p, c):\n",
    "    setm = set(p)- set(c)\n",
    "    \n",
    "    if list(setm):\n",
    "        return list(setm)[0]\n",
    "    \n",
    "    else:\n",
    "        return 0\n",
    "    \n",
    "    #set 은 중복을 제거한다."
   ]
  },
  {
   "cell_type": "code",
   "execution_count": 207,
   "metadata": {},
   "outputs": [],
   "source": [
    "def solution(s,c):\n",
    "    \n",
    "    s.sort()\n",
    "    c.sort()\n",
    "    \n",
    "    for par, com in zip(s,c):\n",
    "        if par != com:\n",
    "            return par\n",
    "        \n",
    "    return s[-1]"
   ]
  },
  {
   "cell_type": "code",
   "execution_count": 208,
   "metadata": {},
   "outputs": [],
   "source": [
    "#Counter()는 dict와 같이 hash형 자료들의 값의 개수를 셀 때 사용하는데, \n",
    "# 딕셔너리처럼 {'자료 이름' : '개수'} 형식으로 만들어진다\n",
    "\n",
    "#  Counter 객체들끼리 뺄셈 가능\n",
    "\n",
    "\n",
    "#찾고자 하는 값이 없을 경우 에러가 아니라 0을 반환\n",
    "\n",
    "import collections\n",
    "\n",
    "def solution(participant, completion):\n",
    "    answer = collections.Counter(participant) - collections.Counter(completion)\n",
    "    return list(answer.keys())[0]"
   ]
  },
  {
   "cell_type": "code",
   "execution_count": 210,
   "metadata": {},
   "outputs": [
    {
     "data": {
      "text/plain": [
       "'\\nhash()는 마치 자료들의 주소 값처럼(?) 실행될 때마다 각 값에 대한 고유한 정수형 숫자 값을 반환한다. 따라서 participant의 인자들의 hash 값을 모두 더해주고, completion의 인자들의 hash 값을 모두 빼주면 1) 중복됐던 값 중 하나 혹은 \\n2) completion 목록에는 없는 participant의 hash 값이 남는다.\\n\\n'"
      ]
     },
     "execution_count": 210,
     "metadata": {},
     "output_type": "execute_result"
    }
   ],
   "source": [
    "def solution(participant, completion):\n",
    "    answer = ''\n",
    "    temp = 0\n",
    "    dic = {}\n",
    "    for part in participant:\n",
    "        dic[hash(part)] = part\n",
    "        temp += int(hash(part))\n",
    "    for com in completion:\n",
    "        temp -= hash(com)\n",
    "    answer = dic[temp]\n",
    "\n",
    "    return answer\n",
    "\n",
    "\"\"\"\n",
    "hash()는 마치 자료들의 주소 값처럼(?) 실행될 때마다 각 값에 대한 고유한 정수형 숫자 값을 반환한다. 따라서 participant의 인자들의 hash 값을 모두 더해주고, completion의 인자들의 hash 값을 모두 빼주면 1) 중복됐던 값 중 하나 혹은 \n",
    "2) completion 목록에는 없는 participant의 hash 값이 남는다.\n",
    "\n",
    "\"\"\""
   ]
  },
  {
   "cell_type": "markdown",
   "metadata": {},
   "source": [
    "## 25번 2016년\n",
    "\n",
    "문제 설명\n",
    "\n",
    "2016년 1월 1일은 금요일입니다. 2016년 a월 b일은 무슨 요일일까요? 두 수 a ,b를 입력받아 2016년 a월 b일이 무슨 요일인지 리턴하는 함수, solution을 완성하세요. 요일의 이름은 일요일부터 토요일까지 각각 SUN,MON,TUE,WED,THU,FRI,SAT\n",
    "\n",
    "입니다. 예를 들어 a=5, b=24라면 5월 24일은 화요일이므로 문자열 TUE를 반환하세요.\n",
    "\n",
    "제한 조건\n",
    "\n",
    "2016년은 윤년입니다.\n",
    "2016년 a월 b일은 실제로 있는 날입니다. (13월 26일이나 2월 45일같은 날짜는 주어지지 않습니다)"
   ]
  },
  {
   "cell_type": "code",
   "execution_count": 212,
   "metadata": {},
   "outputs": [],
   "source": [
    "def solution(a, b):\n",
    "    month = [31,29,31,30,31,30,31,31,30,31,30,31]\n",
    "    weekName = [\"THU\",\"FRI\", \"SAT\", \"SUN\",\"MON\", \"TUE\", \"WED\"]\n",
    "\n",
    "    day = sum(month[:a-1])+ b if a > 1 else b\n",
    "\n",
    "    return weekName[day%7]"
   ]
  },
  {
   "cell_type": "code",
   "execution_count": 213,
   "metadata": {},
   "outputs": [
    {
     "name": "stdout",
     "output_type": "stream",
     "text": [
      "TUE\n"
     ]
    }
   ],
   "source": [
    "# 문제가 개편되었습니다. 이로 인해 함수 구성이나 테스트케이스가 변경되어, 과거의 코드는 동작하지 않을 수 있습니다.\n",
    "# 새로운 함수 구성을 적용하려면 [코드 초기화] 버튼을 누르세요. 단, [코드 초기화] 버튼을 누르면 작성 중인 코드는 사라집니다.\n",
    "def getDayName(a,b):\n",
    "    answer = \"\"\n",
    "    if a>=2:\n",
    "        b+=31\n",
    "        if a>=3:\n",
    "            b+=29#2월\n",
    "            if a>=4:\n",
    "                b+=31#3월\n",
    "                if a>=5:\n",
    "                    b+=30#4월\n",
    "                    if a>=6:\n",
    "                        b+=31#5월\n",
    "                        if a>=7:\n",
    "                            b+=30#6월\n",
    "                            if a>=8:\n",
    "                                b+=31#7월\n",
    "                                if a>=9:\n",
    "                                    b+=31#8월\n",
    "                                    if a>=10:\n",
    "                                        b+=30#9월\n",
    "                                        if a>=11:\n",
    "                                            b+=31#10월\n",
    "                                            if a==12:\n",
    "                                                b+=30#11월\n",
    "    b=b%7\n",
    "\n",
    "    if b==1:answer=\"FRI\"\n",
    "    elif b==2:answer=\"SAT\" \n",
    "    elif b==3:answer=\"SUN\"\n",
    "    elif b==4:answer=\"MON\"\n",
    "    elif b==5:answer=\"TUE\"\n",
    "    elif b==6:answer=\"WED\"\n",
    "    else:answer=\"THU\"\n",
    "    return answer\n",
    "\n",
    "\n",
    "print(getDayName(5,24))"
   ]
  },
  {
   "cell_type": "code",
   "execution_count": 1,
   "metadata": {},
   "outputs": [],
   "source": [
    "def solution(n):\n",
    "    a,b= 0,1\n",
    "    \n",
    "    for i in range(n):\n",
    "        a,b = b, a+b\n",
    "        \n",
    "    return b%1234567\n"
   ]
  }
 ],
 "metadata": {
  "kernelspec": {
   "display_name": "Python 3",
   "language": "python",
   "name": "python3"
  },
  "language_info": {
   "codemirror_mode": {
    "name": "ipython",
    "version": 3
   },
   "file_extension": ".py",
   "mimetype": "text/x-python",
   "name": "python",
   "nbconvert_exporter": "python",
   "pygments_lexer": "ipython3",
   "version": "3.7.6"
  }
 },
 "nbformat": 4,
 "nbformat_minor": 2
}
