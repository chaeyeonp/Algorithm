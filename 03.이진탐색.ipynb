{
 "cells": [
  {
   "cell_type": "markdown",
   "metadata": {
    "collapsed": true
   },
   "source": [
    "## Binary Search\n",
    "\n",
    "\n",
    "### 참고 : https://wayhome25.github.io/cs/2017/04/15/cs-16/\n",
    "\n",
    "- BigO : O(log N)\n",
    "- 정렬된 자료를 반으로 나누어 탐색하는 방법\n",
    "- 주의점 : 자료는 오름차순 으로 정렬된 자료여야 한다.\n",
    "- 이진트리, 바이너리서치는 코딩 인터뷰 단골문제\n",
    "- 퍼포먼스가 아주 좋고 구현하는 중에 dynamic programming, recursion을 볼 수 있다.\n",
    "\n",
    "\n",
    "### 특징\n",
    "\n",
    "1. linear search (순차검색) : 순서대로 찾는다. 성능평가시 비교대상으로 사용한다.\n",
    "- linear search는 정렬 방식이 상관 없다.\n",
    "2. binary search (이진탐색) : 반드시 정렬된 상태에서 시작해야한다. 로그실행시간을 보장한다.\n",
    "- 참고로 insert sort (삽입정렬), bubble sort, selection sort는 O(n^2)의 성능을 갖고 있다. (참고)\n",
    "- 속도 : O(log N)"
   ]
  },
  {
   "cell_type": "markdown",
   "metadata": {},
   "source": [
    "## 1번 : 바이너리 서치 구현"
   ]
  },
  {
   "cell_type": "code",
   "execution_count": 1,
   "metadata": {},
   "outputs": [
    {
     "name": "stdout",
     "output_type": "stream",
     "text": [
      "9\n"
     ]
    }
   ],
   "source": [
    "def binary_search(target,data):\n",
    "    data.sort()\n",
    "    start = 0\n",
    "    \n",
    "    end = len(data) -1\n",
    "    \n",
    "    while start<= end:\n",
    "        mid = (start+end)//2\n",
    "        \n",
    "        if data[mid] == target:\n",
    "            return mid #함수 끝내버림.\n",
    "        \n",
    "        elif data[mid] < target:\n",
    "            start = mid + 1\n",
    "            \n",
    "        else:\n",
    "            end = mid -1\n",
    "            \n",
    "    return None\n",
    "\n",
    "\n",
    "# 테스트용 코드\n",
    "if __name__ == \"__main__\":\n",
    "  li = [i**2 for i in range(11)]\n",
    "  target = 9\n",
    "  idx = binary_search(target, li)\n",
    "\n",
    "  if idx:\n",
    "      print(li[idx])\n",
    "  else:\n",
    "      print(\"찾으시는 타겟 {}가 없습니다\".format(target))"
   ]
  },
  {
   "cell_type": "markdown",
   "metadata": {},
   "source": [
    "## 2. 바이너리 서치 재귀적 구현\n",
    "\n"
   ]
  },
  {
   "cell_type": "code",
   "execution_count": 2,
   "metadata": {},
   "outputs": [
    {
     "name": "stdout",
     "output_type": "stream",
     "text": [
      "[0, 3, 6, 9, 12, 15, 18, 21, 24, 27, 30]\n",
      "2\n"
     ]
    }
   ],
   "source": [
    "# data는 오름차순으로 정렬된 리스트\n",
    "def binary_search_recursion(target, start, end, data):\n",
    "    if start > end:\n",
    "        return None\n",
    "\n",
    "    mid = (start + end) // 2\n",
    "\n",
    "    if data[mid] == target:\n",
    "        return mid\n",
    "    elif data[mid] > target:\n",
    "        end = mid - 1\n",
    "    else:\n",
    "        start = mid + 1        \n",
    "\n",
    "    return binary_search_recursion(target, start, end, data)\n",
    "\n",
    "# 테스트용 코드\n",
    "if __name__ == '__main__':\n",
    "    li = [i*3 for i in range(11)]\n",
    "    target = 6\n",
    "    idx = binary_search_recursion(target, 0, 10, li)\n",
    "\n",
    "    print(li)\n",
    "    print(idx)\n"
   ]
  },
  {
   "cell_type": "markdown",
   "metadata": {},
   "source": [
    "## 3번 "
   ]
  }
 ],
 "metadata": {
  "kernelspec": {
   "display_name": "Python 3",
   "language": "python",
   "name": "python3"
  },
  "language_info": {
   "codemirror_mode": {
    "name": "ipython",
    "version": 3
   },
   "file_extension": ".py",
   "mimetype": "text/x-python",
   "name": "python",
   "nbconvert_exporter": "python",
   "pygments_lexer": "ipython3",
   "version": "3.8.3"
  }
 },
 "nbformat": 4,
 "nbformat_minor": 1
}
